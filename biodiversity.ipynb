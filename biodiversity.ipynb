{
  "cells": [
    {
      "cell_type": "markdown",
      "source": [
        "# Capstone 2: Biodiversity Project"
      ],
      "metadata": {}
    },
    {
      "cell_type": "markdown",
      "source": [
        "# Introduction\n",
        "You are a biodiversity analyst working for the National Parks Service.  You're going to help them analyze some data about species at various national parks.\n",
        "\n",
        "Note: The data that you'll be working with for this project is *inspired* by real data, but is mostly fictional."
      ],
      "metadata": {}
    },
    {
      "cell_type": "markdown",
      "source": [
        "# Step 1\n",
        "Import the modules that you'll be using in this assignment:\n",
        "- `from matplotlib import pyplot as plt`\n",
        "- `import pandas as pd`"
      ],
      "metadata": {}
    },
    {
      "cell_type": "code",
      "source": [
        "from matplotlib import pyplot as plt\n",
        "import pandas as pd"
      ],
      "outputs": [],
      "execution_count": 2,
      "metadata": {
        "collapsed": true,
        "execution": {
          "iopub.status.busy": "2020-06-07T23:12:31.143Z",
          "iopub.execute_input": "2020-06-07T23:12:31.169Z",
          "iopub.status.idle": "2020-06-07T23:12:31.204Z",
          "shell.execute_reply": "2020-06-07T23:12:31.227Z"
        }
      }
    },
    {
      "cell_type": "markdown",
      "source": [
        "# Step 2\n",
        "You have been given two CSV files. `species_info.csv` with data about different species in our National Parks, including:\n",
        "- The scientific name of each species\n",
        "- The common names of each species\n",
        "- The species conservation status\n",
        "\n",
        "Load the dataset and inspect it:\n",
        "- Load `species_info.csv` into a DataFrame called `species`"
      ],
      "metadata": {}
    },
    {
      "cell_type": "code",
      "source": [
        "species = pd.read_csv('species_info.csv')"
      ],
      "outputs": [],
      "execution_count": 4,
      "metadata": {
        "collapsed": true,
        "execution": {
          "iopub.status.busy": "2020-06-07T23:13:00.949Z",
          "iopub.execute_input": "2020-06-07T23:13:00.971Z",
          "iopub.status.idle": "2020-06-07T23:13:00.996Z",
          "shell.execute_reply": "2020-06-07T23:13:01.021Z"
        }
      }
    },
    {
      "cell_type": "markdown",
      "source": [
        "Inspect each DataFrame using `.head()`."
      ],
      "metadata": {}
    },
    {
      "cell_type": "code",
      "source": [
        "species.head()"
      ],
      "outputs": [
        {
          "output_type": "execute_result",
          "execution_count": 5,
          "data": {
            "text/plain": [
              "  category                scientific_name  \\\n",
              "0   Mammal  Clethrionomys gapperi gapperi   \n",
              "1   Mammal                      Bos bison   \n",
              "2   Mammal                     Bos taurus   \n",
              "3   Mammal                     Ovis aries   \n",
              "4   Mammal                 Cervus elaphus   \n",
              "\n",
              "                                        common_names conservation_status  \n",
              "0                           Gapper's Red-Backed Vole                 NaN  \n",
              "1                              American Bison, Bison                 NaN  \n",
              "2  Aurochs, Aurochs, Domestic Cattle (Feral), Dom...                 NaN  \n",
              "3  Domestic Sheep, Mouflon, Red Sheep, Sheep (Feral)                 NaN  \n",
              "4                                      Wapiti Or Elk                 NaN  "
            ],
            "text/html": [
              "<div>\n",
              "<style scoped>\n",
              "    .dataframe tbody tr th:only-of-type {\n",
              "        vertical-align: middle;\n",
              "    }\n",
              "\n",
              "    .dataframe tbody tr th {\n",
              "        vertical-align: top;\n",
              "    }\n",
              "\n",
              "    .dataframe thead th {\n",
              "        text-align: right;\n",
              "    }\n",
              "</style>\n",
              "<table border=\"1\" class=\"dataframe\">\n",
              "  <thead>\n",
              "    <tr style=\"text-align: right;\">\n",
              "      <th></th>\n",
              "      <th>category</th>\n",
              "      <th>scientific_name</th>\n",
              "      <th>common_names</th>\n",
              "      <th>conservation_status</th>\n",
              "    </tr>\n",
              "  </thead>\n",
              "  <tbody>\n",
              "    <tr>\n",
              "      <th>0</th>\n",
              "      <td>Mammal</td>\n",
              "      <td>Clethrionomys gapperi gapperi</td>\n",
              "      <td>Gapper's Red-Backed Vole</td>\n",
              "      <td>NaN</td>\n",
              "    </tr>\n",
              "    <tr>\n",
              "      <th>1</th>\n",
              "      <td>Mammal</td>\n",
              "      <td>Bos bison</td>\n",
              "      <td>American Bison, Bison</td>\n",
              "      <td>NaN</td>\n",
              "    </tr>\n",
              "    <tr>\n",
              "      <th>2</th>\n",
              "      <td>Mammal</td>\n",
              "      <td>Bos taurus</td>\n",
              "      <td>Aurochs, Aurochs, Domestic Cattle (Feral), Dom...</td>\n",
              "      <td>NaN</td>\n",
              "    </tr>\n",
              "    <tr>\n",
              "      <th>3</th>\n",
              "      <td>Mammal</td>\n",
              "      <td>Ovis aries</td>\n",
              "      <td>Domestic Sheep, Mouflon, Red Sheep, Sheep (Feral)</td>\n",
              "      <td>NaN</td>\n",
              "    </tr>\n",
              "    <tr>\n",
              "      <th>4</th>\n",
              "      <td>Mammal</td>\n",
              "      <td>Cervus elaphus</td>\n",
              "      <td>Wapiti Or Elk</td>\n",
              "      <td>NaN</td>\n",
              "    </tr>\n",
              "  </tbody>\n",
              "</table>\n",
              "</div>"
            ]
          },
          "metadata": {}
        }
      ],
      "execution_count": 5,
      "metadata": {
        "collapsed": true,
        "execution": {
          "iopub.status.busy": "2020-06-07T23:13:07.938Z",
          "iopub.execute_input": "2020-06-07T23:13:07.953Z",
          "iopub.status.idle": "2020-06-07T23:13:07.998Z",
          "shell.execute_reply": "2020-06-07T23:13:08.201Z"
        }
      }
    },
    {
      "cell_type": "markdown",
      "source": [
        "# Step 3\n",
        "Let's start by learning a bit more about our data.  Answer each of the following questions."
      ],
      "metadata": {}
    },
    {
      "cell_type": "markdown",
      "source": [
        "How many different species are in the `species` DataFrame?"
      ],
      "metadata": {}
    },
    {
      "cell_type": "code",
      "source": [
        "species.scientific_name.nunique() "
      ],
      "outputs": [
        {
          "output_type": "execute_result",
          "execution_count": 16,
          "data": {
            "text/plain": [
              "5541"
            ]
          },
          "metadata": {}
        }
      ],
      "execution_count": 16,
      "metadata": {
        "collapsed": true,
        "execution": {
          "iopub.status.busy": "2020-06-07T23:21:18.053Z",
          "iopub.execute_input": "2020-06-07T23:21:18.068Z",
          "iopub.status.idle": "2020-06-07T23:21:18.104Z",
          "shell.execute_reply": "2020-06-07T23:21:18.124Z"
        }
      }
    },
    {
      "cell_type": "markdown",
      "source": [
        "What are the different values of `category` in `species`?"
      ],
      "metadata": {}
    },
    {
      "cell_type": "code",
      "source": [
        "species.category.unique()"
      ],
      "outputs": [
        {
          "output_type": "execute_result",
          "execution_count": 17,
          "data": {
            "text/plain": [
              "array(['Mammal', 'Bird', 'Reptile', 'Amphibian', 'Fish', 'Vascular Plant',\n",
              "       'Nonvascular Plant'], dtype=object)"
            ]
          },
          "metadata": {}
        }
      ],
      "execution_count": 17,
      "metadata": {
        "collapsed": true,
        "execution": {
          "iopub.status.busy": "2020-06-07T23:21:33.511Z",
          "iopub.execute_input": "2020-06-07T23:21:33.527Z",
          "iopub.status.idle": "2020-06-07T23:21:33.559Z",
          "shell.execute_reply": "2020-06-07T23:21:33.581Z"
        }
      }
    },
    {
      "cell_type": "markdown",
      "source": [
        "What are the different values of `conservation_status`?"
      ],
      "metadata": {}
    },
    {
      "cell_type": "code",
      "source": [
        "species.conservation_status.unique()"
      ],
      "outputs": [
        {
          "output_type": "execute_result",
          "execution_count": 18,
          "data": {
            "text/plain": [
              "array([nan, 'Species of Concern', 'Endangered', 'Threatened',\n",
              "       'In Recovery'], dtype=object)"
            ]
          },
          "metadata": {}
        }
      ],
      "execution_count": 18,
      "metadata": {
        "collapsed": true,
        "execution": {
          "iopub.status.busy": "2020-06-07T23:21:42.643Z",
          "iopub.execute_input": "2020-06-07T23:21:42.662Z",
          "iopub.status.idle": "2020-06-07T23:21:42.694Z",
          "shell.execute_reply": "2020-06-07T23:21:42.710Z"
        }
      }
    },
    {
      "cell_type": "markdown",
      "source": [
        "# Step 4\n",
        "Let's start doing some analysis!\n",
        "\n",
        "The column `conservation_status` has several possible values:\n",
        "- `Species of Concern`: declining or appear to be in need of conservation\n",
        "- `Threatened`: vulnerable to endangerment in the near future\n",
        "- `Endangered`: seriously at risk of extinction\n",
        "- `In Recovery`: formerly `Endangered`, but currnetly neither in danger of extinction throughout all or a significant portion of its range\n",
        "\n",
        "We'd like to count up how many species meet each of these criteria.  Use `groupby` to count how many `scientific_name` meet each of these criteria."
      ],
      "metadata": {}
    },
    {
      "cell_type": "code",
      "source": [
        "species.groupby('conservation_status').scientific_name.nunique().reset_index()"
      ],
      "outputs": [
        {
          "output_type": "execute_result",
          "execution_count": 22,
          "data": {
            "text/plain": [
              "  conservation_status  scientific_name\n",
              "0          Endangered               15\n",
              "1         In Recovery                4\n",
              "2  Species of Concern              151\n",
              "3          Threatened               10"
            ],
            "text/html": [
              "<div>\n",
              "<style scoped>\n",
              "    .dataframe tbody tr th:only-of-type {\n",
              "        vertical-align: middle;\n",
              "    }\n",
              "\n",
              "    .dataframe tbody tr th {\n",
              "        vertical-align: top;\n",
              "    }\n",
              "\n",
              "    .dataframe thead th {\n",
              "        text-align: right;\n",
              "    }\n",
              "</style>\n",
              "<table border=\"1\" class=\"dataframe\">\n",
              "  <thead>\n",
              "    <tr style=\"text-align: right;\">\n",
              "      <th></th>\n",
              "      <th>conservation_status</th>\n",
              "      <th>scientific_name</th>\n",
              "    </tr>\n",
              "  </thead>\n",
              "  <tbody>\n",
              "    <tr>\n",
              "      <th>0</th>\n",
              "      <td>Endangered</td>\n",
              "      <td>15</td>\n",
              "    </tr>\n",
              "    <tr>\n",
              "      <th>1</th>\n",
              "      <td>In Recovery</td>\n",
              "      <td>4</td>\n",
              "    </tr>\n",
              "    <tr>\n",
              "      <th>2</th>\n",
              "      <td>Species of Concern</td>\n",
              "      <td>151</td>\n",
              "    </tr>\n",
              "    <tr>\n",
              "      <th>3</th>\n",
              "      <td>Threatened</td>\n",
              "      <td>10</td>\n",
              "    </tr>\n",
              "  </tbody>\n",
              "</table>\n",
              "</div>"
            ]
          },
          "metadata": {}
        }
      ],
      "execution_count": 22,
      "metadata": {
        "collapsed": true,
        "execution": {
          "iopub.status.busy": "2020-06-07T23:23:08.808Z",
          "iopub.execute_input": "2020-06-07T23:23:08.822Z",
          "iopub.status.idle": "2020-06-07T23:23:08.858Z",
          "shell.execute_reply": "2020-06-07T23:23:08.875Z"
        }
      }
    },
    {
      "cell_type": "markdown",
      "source": [
        "As we saw before, there are far more than 200 species in the `species` table.  Clearly, only a small number of them are categorized as needing some sort of protection.  The rest have `conservation_status` equal to `None`.  Because `groupby` does not include `None`, we will need to fill in the null values.  We can do this using `.fillna`.  We pass in however we want to fill in our `None` values as an argument.\n",
        "\n",
        "Paste the following code and run it to see replace `None` with `No Intervention`:\n",
        "```python\n",
        "species.fillna('No Intervention', inplace=True)\n",
        "```"
      ],
      "metadata": {}
    },
    {
      "cell_type": "code",
      "source": [
        "species.fillna('No Intervention', inplace = True)"
      ],
      "outputs": [],
      "execution_count": 23,
      "metadata": {
        "collapsed": true,
        "execution": {
          "iopub.status.busy": "2020-06-07T23:24:12.046Z",
          "iopub.execute_input": "2020-06-07T23:24:12.065Z",
          "iopub.status.idle": "2020-06-07T23:24:12.094Z",
          "shell.execute_reply": "2020-06-07T23:24:12.109Z"
        }
      }
    },
    {
      "cell_type": "markdown",
      "source": [
        "Great! Now run the same `groupby` as before to see how many species require `No Intervention`."
      ],
      "metadata": {}
    },
    {
      "cell_type": "code",
      "source": [
        "species.groupby('conservation_status').scientific_name.nunique().reset_index()"
      ],
      "outputs": [
        {
          "output_type": "execute_result",
          "execution_count": 24,
          "data": {
            "text/plain": [
              "  conservation_status  scientific_name\n",
              "0          Endangered               15\n",
              "1         In Recovery                4\n",
              "2     No Intervention             5363\n",
              "3  Species of Concern              151\n",
              "4          Threatened               10"
            ],
            "text/html": [
              "<div>\n",
              "<style scoped>\n",
              "    .dataframe tbody tr th:only-of-type {\n",
              "        vertical-align: middle;\n",
              "    }\n",
              "\n",
              "    .dataframe tbody tr th {\n",
              "        vertical-align: top;\n",
              "    }\n",
              "\n",
              "    .dataframe thead th {\n",
              "        text-align: right;\n",
              "    }\n",
              "</style>\n",
              "<table border=\"1\" class=\"dataframe\">\n",
              "  <thead>\n",
              "    <tr style=\"text-align: right;\">\n",
              "      <th></th>\n",
              "      <th>conservation_status</th>\n",
              "      <th>scientific_name</th>\n",
              "    </tr>\n",
              "  </thead>\n",
              "  <tbody>\n",
              "    <tr>\n",
              "      <th>0</th>\n",
              "      <td>Endangered</td>\n",
              "      <td>15</td>\n",
              "    </tr>\n",
              "    <tr>\n",
              "      <th>1</th>\n",
              "      <td>In Recovery</td>\n",
              "      <td>4</td>\n",
              "    </tr>\n",
              "    <tr>\n",
              "      <th>2</th>\n",
              "      <td>No Intervention</td>\n",
              "      <td>5363</td>\n",
              "    </tr>\n",
              "    <tr>\n",
              "      <th>3</th>\n",
              "      <td>Species of Concern</td>\n",
              "      <td>151</td>\n",
              "    </tr>\n",
              "    <tr>\n",
              "      <th>4</th>\n",
              "      <td>Threatened</td>\n",
              "      <td>10</td>\n",
              "    </tr>\n",
              "  </tbody>\n",
              "</table>\n",
              "</div>"
            ]
          },
          "metadata": {}
        }
      ],
      "execution_count": 24,
      "metadata": {
        "collapsed": true,
        "execution": {
          "iopub.status.busy": "2020-06-07T23:24:52.488Z",
          "iopub.execute_input": "2020-06-07T23:24:52.504Z",
          "iopub.status.idle": "2020-06-07T23:24:52.539Z",
          "shell.execute_reply": "2020-06-07T23:24:52.556Z"
        }
      }
    },
    {
      "cell_type": "markdown",
      "source": [
        "Let's use `plt.bar` to create a bar chart.  First, let's sort the columns by how many species are in each categories.  We can do this using `.sort_values`.  We use the the keyword `by` to indicate which column we want to sort by.\n",
        "\n",
        "Paste the following code and run it to create a new DataFrame called `protection_counts`, which is sorted by `scientific_name`:\n",
        "```python\n",
        "protection_counts = species.groupby('conservation_status')\\\n",
        "    .scientific_name.nunique().reset_index()\\\n",
        "    .sort_values(by='scientific_name')\n",
        "```"
      ],
      "metadata": {}
    },
    {
      "cell_type": "code",
      "source": [
        "protection_counts = species.groupby('conservation_status').scientific_name.nunique().reset_index().sort_values(by='scientific_name')\n",
        "protection_counts"
      ],
      "outputs": [
        {
          "output_type": "execute_result",
          "execution_count": 29,
          "data": {
            "text/plain": [
              "  conservation_status  scientific_name\n",
              "1         In Recovery                4\n",
              "4          Threatened               10\n",
              "0          Endangered               15\n",
              "3  Species of Concern              151\n",
              "2     No Intervention             5363"
            ],
            "text/html": [
              "<div>\n",
              "<style scoped>\n",
              "    .dataframe tbody tr th:only-of-type {\n",
              "        vertical-align: middle;\n",
              "    }\n",
              "\n",
              "    .dataframe tbody tr th {\n",
              "        vertical-align: top;\n",
              "    }\n",
              "\n",
              "    .dataframe thead th {\n",
              "        text-align: right;\n",
              "    }\n",
              "</style>\n",
              "<table border=\"1\" class=\"dataframe\">\n",
              "  <thead>\n",
              "    <tr style=\"text-align: right;\">\n",
              "      <th></th>\n",
              "      <th>conservation_status</th>\n",
              "      <th>scientific_name</th>\n",
              "    </tr>\n",
              "  </thead>\n",
              "  <tbody>\n",
              "    <tr>\n",
              "      <th>1</th>\n",
              "      <td>In Recovery</td>\n",
              "      <td>4</td>\n",
              "    </tr>\n",
              "    <tr>\n",
              "      <th>4</th>\n",
              "      <td>Threatened</td>\n",
              "      <td>10</td>\n",
              "    </tr>\n",
              "    <tr>\n",
              "      <th>0</th>\n",
              "      <td>Endangered</td>\n",
              "      <td>15</td>\n",
              "    </tr>\n",
              "    <tr>\n",
              "      <th>3</th>\n",
              "      <td>Species of Concern</td>\n",
              "      <td>151</td>\n",
              "    </tr>\n",
              "    <tr>\n",
              "      <th>2</th>\n",
              "      <td>No Intervention</td>\n",
              "      <td>5363</td>\n",
              "    </tr>\n",
              "  </tbody>\n",
              "</table>\n",
              "</div>"
            ]
          },
          "metadata": {}
        }
      ],
      "execution_count": 29,
      "metadata": {
        "collapsed": true,
        "execution": {
          "iopub.status.busy": "2020-06-07T23:34:42.881Z",
          "iopub.execute_input": "2020-06-07T23:34:42.901Z",
          "iopub.status.idle": "2020-06-07T23:34:42.936Z",
          "shell.execute_reply": "2020-06-07T23:34:42.955Z"
        }
      }
    },
    {
      "cell_type": "markdown",
      "source": [
        "Now let's create a bar chart!\n",
        "1. Start by creating a wide figure with `figsize=(10, 4)`\n",
        "1. Start by creating an axes object called `ax` using `plt.subplot`.\n",
        "2. Create a bar chart whose heights are equal to `scientific_name` column of `protection_counts`.\n",
        "3. Create an x-tick for each of the bars.\n",
        "4. Label each x-tick with the label from `conservation_status` in `protection_counts`\n",
        "5. Label the y-axis `Number of Species`\n",
        "6. Title the graph `Conservation Status by Species`\n",
        "7. Plot the grap using `plt.show()`"
      ],
      "metadata": {}
    },
    {
      "cell_type": "code",
      "source": [
        "plt.figure(figsize=(10,4))\n",
        "ax = plt.subplot()\n",
        "plt.bar(range(len(protection_counts)),\n",
        "        protection_counts.scientific_name.values)\n",
        "ax.set_xticks(range(len(protection_counts)))\n",
        "ax.set_xticklabels(protection_counts.conservation_status)\n",
        "plt.ylabel('Number of Species')\n",
        "plt.title('Conservation Status by Species')\n",
        "plt.show()"
      ],
      "outputs": [
        {
          "output_type": "display_data",
          "data": {
            "text/plain": [
              "<Figure size 720x288 with 1 Axes>"
            ],
            "image/png": "[encoded data removed]"
          },
          "metadata": {
            "needs_background": "light"
          }
        }
      ],
      "execution_count": 34,
      "metadata": {
        "collapsed": true,
        "execution": {
          "iopub.status.busy": "2020-06-07T23:38:27.095Z",
          "iopub.execute_input": "2020-06-07T23:38:27.112Z",
          "iopub.status.idle": "2020-06-07T23:38:27.249Z",
          "shell.execute_reply": "2020-06-07T23:38:27.280Z"
        }
      }
    },
    {
      "cell_type": "markdown",
      "source": [
        "# Step 4\n",
        "Are certain types of species more likely to be endangered?"
      ],
      "metadata": {}
    },
    {
      "cell_type": "markdown",
      "source": [
        "Let's create a new column in `species` called `is_protected`, which is `True` if `conservation_status` is not equal to `No Intervention`, and `False` otherwise."
      ],
      "metadata": {}
    },
    {
      "cell_type": "code",
      "source": [
        "species['is_protected'] = species.conservation_status.apply(\\\n",
        "      lambda x: True if x != 'No Intervention' else False)\n",
        "# species['is_protected'] = species_conservation_status != 'No Intervention'\n",
        "                                                            "
      ],
      "outputs": [],
      "execution_count": 36,
      "metadata": {
        "collapsed": true,
        "execution": {
          "iopub.status.busy": "2020-06-07T23:47:42.410Z",
          "iopub.execute_input": "2020-06-07T23:47:42.427Z",
          "iopub.status.idle": "2020-06-07T23:47:42.455Z",
          "shell.execute_reply": "2020-06-07T23:47:42.475Z"
        }
      }
    },
    {
      "cell_type": "markdown",
      "source": [
        "Let's group the `species` data frame by the `category` and `is_protected` columns and count the unique `scientific_name`s in each grouping.\n",
        "\n",
        "Save your results to `category_counts`."
      ],
      "metadata": {}
    },
    {
      "cell_type": "code",
      "source": [
        "category_counts = species.groupby(['category','is_protected']).scientific_name.nunique().reset_index()"
      ],
      "outputs": [],
      "execution_count": 39,
      "metadata": {
        "collapsed": true,
        "execution": {
          "iopub.status.busy": "2020-06-07T23:49:55.867Z",
          "iopub.execute_input": "2020-06-07T23:49:55.886Z",
          "iopub.status.idle": "2020-06-07T23:49:55.914Z",
          "shell.execute_reply": "2020-06-07T23:49:55.929Z"
        }
      }
    },
    {
      "cell_type": "markdown",
      "source": [
        "Examine `category_counts` using `head()`."
      ],
      "metadata": {}
    },
    {
      "cell_type": "code",
      "source": [
        "category_counts.head()"
      ],
      "outputs": [
        {
          "output_type": "execute_result",
          "execution_count": 40,
          "data": {
            "text/plain": [
              "    category  is_protected  scientific_name\n",
              "0  Amphibian         False               72\n",
              "1  Amphibian          True                7\n",
              "2       Bird         False              413\n",
              "3       Bird          True               75\n",
              "4       Fish         False              115"
            ],
            "text/html": [
              "<div>\n",
              "<style scoped>\n",
              "    .dataframe tbody tr th:only-of-type {\n",
              "        vertical-align: middle;\n",
              "    }\n",
              "\n",
              "    .dataframe tbody tr th {\n",
              "        vertical-align: top;\n",
              "    }\n",
              "\n",
              "    .dataframe thead th {\n",
              "        text-align: right;\n",
              "    }\n",
              "</style>\n",
              "<table border=\"1\" class=\"dataframe\">\n",
              "  <thead>\n",
              "    <tr style=\"text-align: right;\">\n",
              "      <th></th>\n",
              "      <th>category</th>\n",
              "      <th>is_protected</th>\n",
              "      <th>scientific_name</th>\n",
              "    </tr>\n",
              "  </thead>\n",
              "  <tbody>\n",
              "    <tr>\n",
              "      <th>0</th>\n",
              "      <td>Amphibian</td>\n",
              "      <td>False</td>\n",
              "      <td>72</td>\n",
              "    </tr>\n",
              "    <tr>\n",
              "      <th>1</th>\n",
              "      <td>Amphibian</td>\n",
              "      <td>True</td>\n",
              "      <td>7</td>\n",
              "    </tr>\n",
              "    <tr>\n",
              "      <th>2</th>\n",
              "      <td>Bird</td>\n",
              "      <td>False</td>\n",
              "      <td>413</td>\n",
              "    </tr>\n",
              "    <tr>\n",
              "      <th>3</th>\n",
              "      <td>Bird</td>\n",
              "      <td>True</td>\n",
              "      <td>75</td>\n",
              "    </tr>\n",
              "    <tr>\n",
              "      <th>4</th>\n",
              "      <td>Fish</td>\n",
              "      <td>False</td>\n",
              "      <td>115</td>\n",
              "    </tr>\n",
              "  </tbody>\n",
              "</table>\n",
              "</div>"
            ]
          },
          "metadata": {}
        }
      ],
      "execution_count": 40,
      "metadata": {
        "collapsed": true,
        "execution": {
          "iopub.status.busy": "2020-06-07T23:50:03.657Z",
          "iopub.execute_input": "2020-06-07T23:50:03.673Z",
          "iopub.status.idle": "2020-06-07T23:50:03.705Z",
          "shell.execute_reply": "2020-06-07T23:50:03.720Z"
        }
      }
    },
    {
      "cell_type": "markdown",
      "source": [
        "It's going to be easier to view this data if we pivot it.  Using `pivot`, rearange `category_counts` so that:\n",
        "- `columns` is `is_protected`\n",
        "- `index` is `category`\n",
        "- `values` is `scientific_name`\n",
        "\n",
        "Save your pivoted data to `category_pivot`. Remember to `reset_index()` at the end."
      ],
      "metadata": {
        "collapsed": true
      }
    },
    {
      "cell_type": "code",
      "source": [
        "category_pivot = category_counts.pivot(columns = 'is_protected',\n",
        "                                       index = 'category',\n",
        "                                       values = 'scientific_name')\\\n",
        "                                .reset_index()"
      ],
      "outputs": [],
      "execution_count": 41,
      "metadata": {
        "collapsed": true,
        "execution": {
          "iopub.status.busy": "2020-06-07T23:51:51.778Z",
          "iopub.execute_input": "2020-06-07T23:51:51.792Z",
          "iopub.status.idle": "2020-06-07T23:51:51.816Z",
          "shell.execute_reply": "2020-06-07T23:51:51.836Z"
        }
      }
    },
    {
      "cell_type": "markdown",
      "source": [
        "Examine `category_pivot`."
      ],
      "metadata": {}
    },
    {
      "cell_type": "code",
      "source": [
        "category_pivot"
      ],
      "outputs": [
        {
          "output_type": "execute_result",
          "execution_count": 43,
          "data": {
            "text/plain": [
              "is_protected           category  False  True\n",
              "0                     Amphibian     72     7\n",
              "1                          Bird    413    75\n",
              "2                          Fish    115    11\n",
              "3                        Mammal    146    30\n",
              "4             Nonvascular Plant    328     5\n",
              "5                       Reptile     73     5\n",
              "6                Vascular Plant   4216    46"
            ],
            "text/html": [
              "<div>\n",
              "<style scoped>\n",
              "    .dataframe tbody tr th:only-of-type {\n",
              "        vertical-align: middle;\n",
              "    }\n",
              "\n",
              "    .dataframe tbody tr th {\n",
              "        vertical-align: top;\n",
              "    }\n",
              "\n",
              "    .dataframe thead th {\n",
              "        text-align: right;\n",
              "    }\n",
              "</style>\n",
              "<table border=\"1\" class=\"dataframe\">\n",
              "  <thead>\n",
              "    <tr style=\"text-align: right;\">\n",
              "      <th>is_protected</th>\n",
              "      <th>category</th>\n",
              "      <th>False</th>\n",
              "      <th>True</th>\n",
              "    </tr>\n",
              "  </thead>\n",
              "  <tbody>\n",
              "    <tr>\n",
              "      <th>0</th>\n",
              "      <td>Amphibian</td>\n",
              "      <td>72</td>\n",
              "      <td>7</td>\n",
              "    </tr>\n",
              "    <tr>\n",
              "      <th>1</th>\n",
              "      <td>Bird</td>\n",
              "      <td>413</td>\n",
              "      <td>75</td>\n",
              "    </tr>\n",
              "    <tr>\n",
              "      <th>2</th>\n",
              "      <td>Fish</td>\n",
              "      <td>115</td>\n",
              "      <td>11</td>\n",
              "    </tr>\n",
              "    <tr>\n",
              "      <th>3</th>\n",
              "      <td>Mammal</td>\n",
              "      <td>146</td>\n",
              "      <td>30</td>\n",
              "    </tr>\n",
              "    <tr>\n",
              "      <th>4</th>\n",
              "      <td>Nonvascular Plant</td>\n",
              "      <td>328</td>\n",
              "      <td>5</td>\n",
              "    </tr>\n",
              "    <tr>\n",
              "      <th>5</th>\n",
              "      <td>Reptile</td>\n",
              "      <td>73</td>\n",
              "      <td>5</td>\n",
              "    </tr>\n",
              "    <tr>\n",
              "      <th>6</th>\n",
              "      <td>Vascular Plant</td>\n",
              "      <td>4216</td>\n",
              "      <td>46</td>\n",
              "    </tr>\n",
              "  </tbody>\n",
              "</table>\n",
              "</div>"
            ]
          },
          "metadata": {}
        }
      ],
      "execution_count": 43,
      "metadata": {
        "collapsed": true,
        "execution": {
          "iopub.status.busy": "2020-06-07T23:52:14.233Z",
          "iopub.execute_input": "2020-06-07T23:52:14.250Z",
          "iopub.status.idle": "2020-06-07T23:52:14.287Z",
          "shell.execute_reply": "2020-06-07T23:52:14.304Z"
        }
      }
    },
    {
      "cell_type": "markdown",
      "source": [
        "Use the `.columns` property to  rename the categories `True` and `False` to something more description:\n",
        "- Leave `category` as `category`\n",
        "- Rename `False` to `not_protected`\n",
        "- Rename `True` to `protected`"
      ],
      "metadata": {}
    },
    {
      "cell_type": "code",
      "source": [
        "category_pivot.columns=['category','not_protected','protected']"
      ],
      "outputs": [],
      "execution_count": 49,
      "metadata": {
        "collapsed": true,
        "execution": {
          "iopub.status.busy": "2020-06-07T23:57:04.824Z",
          "iopub.execute_input": "2020-06-07T23:57:04.842Z",
          "iopub.status.idle": "2020-06-07T23:57:04.868Z",
          "shell.execute_reply": "2020-06-07T23:57:04.887Z"
        }
      }
    },
    {
      "cell_type": "markdown",
      "source": [
        "Let's create a new column of `category_pivot` called `percent_protected`, which is equal to `protected` (the number of species that are protected) divided by `protected` plus `not_protected` (the total number of species)."
      ],
      "metadata": {}
    },
    {
      "cell_type": "code",
      "source": [
        "category_pivot['percent_protected'] = category_pivot.protected/\\\n",
        "(category_pivot.protected + category_pivot.not_protected)"
      ],
      "outputs": [],
      "execution_count": 61,
      "metadata": {
        "collapsed": true,
        "execution": {
          "iopub.status.busy": "2020-06-07T23:59:56.261Z",
          "iopub.execute_input": "2020-06-07T23:59:56.284Z",
          "iopub.status.idle": "2020-06-07T23:59:56.310Z",
          "shell.execute_reply": "2020-06-07T23:59:56.330Z"
        }
      }
    },
    {
      "cell_type": "markdown",
      "source": [
        "Examine `category_pivot`."
      ],
      "metadata": {}
    },
    {
      "cell_type": "code",
      "source": [
        "category_pivot"
      ],
      "outputs": [
        {
          "output_type": "execute_result",
          "execution_count": 62,
          "data": {
            "text/plain": [
              "            category  not_protected  protected  percent_protected\n",
              "0          Amphibian             72          7           0.088608\n",
              "1               Bird            413         75           0.153689\n",
              "2               Fish            115         11           0.087302\n",
              "3             Mammal            146         30           0.170455\n",
              "4  Nonvascular Plant            328          5           0.015015\n",
              "5            Reptile             73          5           0.064103\n",
              "6     Vascular Plant           4216         46           0.010793"
            ],
            "text/html": [
              "<div>\n",
              "<style scoped>\n",
              "    .dataframe tbody tr th:only-of-type {\n",
              "        vertical-align: middle;\n",
              "    }\n",
              "\n",
              "    .dataframe tbody tr th {\n",
              "        vertical-align: top;\n",
              "    }\n",
              "\n",
              "    .dataframe thead th {\n",
              "        text-align: right;\n",
              "    }\n",
              "</style>\n",
              "<table border=\"1\" class=\"dataframe\">\n",
              "  <thead>\n",
              "    <tr style=\"text-align: right;\">\n",
              "      <th></th>\n",
              "      <th>category</th>\n",
              "      <th>not_protected</th>\n",
              "      <th>protected</th>\n",
              "      <th>percent_protected</th>\n",
              "    </tr>\n",
              "  </thead>\n",
              "  <tbody>\n",
              "    <tr>\n",
              "      <th>0</th>\n",
              "      <td>Amphibian</td>\n",
              "      <td>72</td>\n",
              "      <td>7</td>\n",
              "      <td>0.088608</td>\n",
              "    </tr>\n",
              "    <tr>\n",
              "      <th>1</th>\n",
              "      <td>Bird</td>\n",
              "      <td>413</td>\n",
              "      <td>75</td>\n",
              "      <td>0.153689</td>\n",
              "    </tr>\n",
              "    <tr>\n",
              "      <th>2</th>\n",
              "      <td>Fish</td>\n",
              "      <td>115</td>\n",
              "      <td>11</td>\n",
              "      <td>0.087302</td>\n",
              "    </tr>\n",
              "    <tr>\n",
              "      <th>3</th>\n",
              "      <td>Mammal</td>\n",
              "      <td>146</td>\n",
              "      <td>30</td>\n",
              "      <td>0.170455</td>\n",
              "    </tr>\n",
              "    <tr>\n",
              "      <th>4</th>\n",
              "      <td>Nonvascular Plant</td>\n",
              "      <td>328</td>\n",
              "      <td>5</td>\n",
              "      <td>0.015015</td>\n",
              "    </tr>\n",
              "    <tr>\n",
              "      <th>5</th>\n",
              "      <td>Reptile</td>\n",
              "      <td>73</td>\n",
              "      <td>5</td>\n",
              "      <td>0.064103</td>\n",
              "    </tr>\n",
              "    <tr>\n",
              "      <th>6</th>\n",
              "      <td>Vascular Plant</td>\n",
              "      <td>4216</td>\n",
              "      <td>46</td>\n",
              "      <td>0.010793</td>\n",
              "    </tr>\n",
              "  </tbody>\n",
              "</table>\n",
              "</div>"
            ]
          },
          "metadata": {}
        }
      ],
      "execution_count": 62,
      "metadata": {
        "collapsed": true,
        "execution": {
          "iopub.status.busy": "2020-06-08T00:00:02.466Z",
          "iopub.execute_input": "2020-06-08T00:00:02.481Z",
          "iopub.status.idle": "2020-06-08T00:00:02.513Z",
          "shell.execute_reply": "2020-06-08T00:00:02.529Z"
        }
      }
    },
    {
      "cell_type": "markdown",
      "source": [
        "It looks like species in category `Mammal` are more likely to be endangered than species in `Bird`.  We're going to do a significance test to see if this statement is true.  Before you do the significance test, consider the following questions:\n",
        "- Is the data numerical or categorical?\n",
        "- How many pieces of data are you comparing?"
      ],
      "metadata": {}
    },
    {
      "cell_type": "markdown",
      "source": [
        "Based on those answers, you should choose to do a *chi squared test*.  In order to run a chi squared test, we'll need to create a contingency table.  Our contingency table should look like this:\n",
        "\n",
        "||protected|not protected|\n",
        "|-|-|-|\n",
        "|Mammal|?|?|\n",
        "|Bird|?|?|\n",
        "\n",
        "Create a table called `contingency` and fill it in with the correct numbers"
      ],
      "metadata": {}
    },
    {
      "cell_type": "code",
      "source": [
        "contingency = [[30,146],\n",
        "               [75,413]]"
      ],
      "outputs": [],
      "execution_count": 63,
      "metadata": {
        "collapsed": true,
        "execution": {
          "iopub.status.busy": "2020-06-08T00:01:06.354Z",
          "iopub.execute_input": "2020-06-08T00:01:06.371Z",
          "iopub.status.idle": "2020-06-08T00:01:06.396Z",
          "shell.execute_reply": "2020-06-08T00:01:06.411Z"
        }
      }
    },
    {
      "cell_type": "markdown",
      "source": [
        "In order to perform our chi square test, we'll need to import the correct function from scipy.  Past the following code and run it:\n",
        "```py\n",
        "from scipy.stats import chi2_contingency\n",
        "```"
      ],
      "metadata": {}
    },
    {
      "cell_type": "code",
      "source": [
        "from scipy.stats import chi2_contingency"
      ],
      "outputs": [],
      "execution_count": 64,
      "metadata": {
        "collapsed": true,
        "execution": {
          "iopub.status.busy": "2020-06-08T00:01:23.609Z",
          "iopub.execute_input": "2020-06-08T00:01:23.626Z",
          "iopub.status.idle": "2020-06-08T00:01:26.848Z",
          "shell.execute_reply": "2020-06-08T00:01:26.868Z"
        }
      }
    },
    {
      "cell_type": "markdown",
      "source": [
        "Now run `chi2_contingency` with `contingency`."
      ],
      "metadata": {}
    },
    {
      "cell_type": "code",
      "source": [
        "__, pvalue, __, __ = chi2_contingency(contingency)\n",
        "pvalue"
      ],
      "outputs": [
        {
          "output_type": "execute_result",
          "execution_count": 66,
          "data": {
            "text/plain": [
              "0.6875948096661336"
            ]
          },
          "metadata": {}
        }
      ],
      "execution_count": 66,
      "metadata": {
        "collapsed": true,
        "execution": {
          "iopub.status.busy": "2020-06-08T00:01:55.622Z",
          "iopub.execute_input": "2020-06-08T00:01:55.638Z",
          "iopub.status.idle": "2020-06-08T00:01:55.675Z",
          "shell.execute_reply": "2020-06-08T00:01:55.695Z"
        }
      }
    },
    {
      "cell_type": "markdown",
      "source": [
        "It looks like this difference isn't significant!\n",
        "\n",
        "Let's test another.  Is the difference between `Reptile` and `Mammal` significant?"
      ],
      "metadata": {}
    },
    {
      "cell_type": "code",
      "source": [
        "contingency = [[30,146],\n",
        "               [5,73]]\n",
        "chi2_contingency(contingency)"
      ],
      "outputs": [
        {
          "output_type": "execute_result",
          "execution_count": 67,
          "data": {
            "text/plain": [
              "(4.289183096203645,\n",
              " 0.03835559022969898,\n",
              " 1,\n",
              " array([[ 24.2519685, 151.7480315],\n",
              "        [ 10.7480315,  67.2519685]]))"
            ]
          },
          "metadata": {}
        }
      ],
      "execution_count": 67,
      "metadata": {
        "collapsed": true,
        "execution": {
          "iopub.status.busy": "2020-06-08T00:02:39.169Z",
          "iopub.execute_input": "2020-06-08T00:02:39.187Z",
          "iopub.status.idle": "2020-06-08T00:02:39.223Z",
          "shell.execute_reply": "2020-06-08T00:02:39.241Z"
        }
      }
    },
    {
      "cell_type": "markdown",
      "source": [
        "Yes! It looks like there is a significant difference between `Reptile` and `Mammal`!"
      ],
      "metadata": {}
    },
    {
      "cell_type": "markdown",
      "source": [
        "# Step 5"
      ],
      "metadata": {}
    },
    {
      "cell_type": "markdown",
      "source": [
        "Conservationists have been recording sightings of different species at several national parks for the past 7 days.  They've saved sent you their observations in a file called `observations.csv`.  Load `observations.csv` into a variable called `observations`, then use `head` to view the data."
      ],
      "metadata": {}
    },
    {
      "cell_type": "code",
      "source": [
        "observations = pd.read_csv('observations.csv')"
      ],
      "outputs": [],
      "execution_count": 68,
      "metadata": {
        "collapsed": true,
        "execution": {
          "iopub.status.busy": "2020-06-08T00:03:16.790Z",
          "iopub.execute_input": "2020-06-08T00:03:16.809Z",
          "iopub.status.idle": "2020-06-08T00:03:16.834Z",
          "shell.execute_reply": "2020-06-08T00:03:16.856Z"
        }
      }
    },
    {
      "cell_type": "markdown",
      "source": [
        "Some scientists are studying the number of sheep sightings at different national parks.  There are several different scientific names for different types of sheep.  We'd like to know which rows of `species` are referring to sheep.  Notice that the following code will tell us whether or not a word occurs in a string:"
      ],
      "metadata": {}
    },
    {
      "cell_type": "code",
      "source": [
        "# Does \"Sheep\" occur in this string?\n",
        "str1 = 'This string contains Sheep'\n",
        "'Sheep' in str1"
      ],
      "outputs": [
        {
          "output_type": "execute_result",
          "execution_count": 1,
          "data": {
            "text/plain": [
              "True"
            ]
          },
          "metadata": {}
        }
      ],
      "execution_count": 1,
      "metadata": {}
    },
    {
      "cell_type": "code",
      "source": [
        "# Does \"Sheep\" occur in this string?\n",
        "str2 = 'This string contains Cows'\n",
        "'Sheep' in str2"
      ],
      "outputs": [
        {
          "output_type": "execute_result",
          "execution_count": 2,
          "data": {
            "text/plain": [
              "False"
            ]
          },
          "metadata": {}
        }
      ],
      "execution_count": 2,
      "metadata": {}
    },
    {
      "cell_type": "markdown",
      "source": [
        "Use `apply` and a `lambda` function to create a new column in `species` called `is_sheep` which is `True` if the `common_names` contains `'Sheep'`, and `False` otherwise."
      ],
      "metadata": {}
    },
    {
      "cell_type": "code",
      "source": [
        "species['is_sheep'] = species.common_names.apply(lambda x: True if 'Sheep' in x else False)\n",
        "# lambda x: 'Sheep' in x"
      ],
      "outputs": [],
      "execution_count": 76,
      "metadata": {
        "collapsed": true,
        "execution": {
          "iopub.status.busy": "2020-06-08T00:06:30.063Z",
          "iopub.execute_input": "2020-06-08T00:06:30.077Z",
          "iopub.status.idle": "2020-06-08T00:06:30.101Z",
          "shell.execute_reply": "2020-06-08T00:06:30.117Z"
        }
      }
    },
    {
      "cell_type": "markdown",
      "source": [
        "Select the rows of `species` where `is_sheep` is `True` and examine the results."
      ],
      "metadata": {}
    },
    {
      "cell_type": "code",
      "source": [
        "species[species.is_sheep]"
      ],
      "outputs": [
        {
          "output_type": "execute_result",
          "execution_count": 77,
          "data": {
            "text/plain": [
              "            category              scientific_name  \\\n",
              "3             Mammal                   Ovis aries   \n",
              "1139  Vascular Plant             Rumex acetosella   \n",
              "2233  Vascular Plant           Festuca filiformis   \n",
              "3014          Mammal              Ovis canadensis   \n",
              "3758  Vascular Plant             Rumex acetosella   \n",
              "3761  Vascular Plant            Rumex paucifolius   \n",
              "4091  Vascular Plant                 Carex illota   \n",
              "4383  Vascular Plant  Potentilla ovina var. ovina   \n",
              "4446          Mammal      Ovis canadensis sierrae   \n",
              "\n",
              "                                           common_names conservation_status  \\\n",
              "3     Domestic Sheep, Mouflon, Red Sheep, Sheep (Feral)     No Intervention   \n",
              "1139                        Sheep Sorrel, Sheep Sorrell     No Intervention   \n",
              "2233                              Fineleaf Sheep Fescue     No Intervention   \n",
              "3014                       Bighorn Sheep, Bighorn Sheep  Species of Concern   \n",
              "3758  Common Sheep Sorrel, Field Sorrel, Red Sorrel,...     No Intervention   \n",
              "3761   Alpine Sheep Sorrel, Fewleaved Dock, Meadow Dock     No Intervention   \n",
              "4091                       Sheep Sedge, Smallhead Sedge     No Intervention   \n",
              "4383                                   Sheep Cinquefoil     No Intervention   \n",
              "4446                        Sierra Nevada Bighorn Sheep          Endangered   \n",
              "\n",
              "      is_protected  is_sheep  \n",
              "3            False      True  \n",
              "1139         False      True  \n",
              "2233         False      True  \n",
              "3014          True      True  \n",
              "3758         False      True  \n",
              "3761         False      True  \n",
              "4091         False      True  \n",
              "4383         False      True  \n",
              "4446          True      True  "
            ],
            "text/html": [
              "<div>\n",
              "<style scoped>\n",
              "    .dataframe tbody tr th:only-of-type {\n",
              "        vertical-align: middle;\n",
              "    }\n",
              "\n",
              "    .dataframe tbody tr th {\n",
              "        vertical-align: top;\n",
              "    }\n",
              "\n",
              "    .dataframe thead th {\n",
              "        text-align: right;\n",
              "    }\n",
              "</style>\n",
              "<table border=\"1\" class=\"dataframe\">\n",
              "  <thead>\n",
              "    <tr style=\"text-align: right;\">\n",
              "      <th></th>\n",
              "      <th>category</th>\n",
              "      <th>scientific_name</th>\n",
              "      <th>common_names</th>\n",
              "      <th>conservation_status</th>\n",
              "      <th>is_protected</th>\n",
              "      <th>is_sheep</th>\n",
              "    </tr>\n",
              "  </thead>\n",
              "  <tbody>\n",
              "    <tr>\n",
              "      <th>3</th>\n",
              "      <td>Mammal</td>\n",
              "      <td>Ovis aries</td>\n",
              "      <td>Domestic Sheep, Mouflon, Red Sheep, Sheep (Feral)</td>\n",
              "      <td>No Intervention</td>\n",
              "      <td>False</td>\n",
              "      <td>True</td>\n",
              "    </tr>\n",
              "    <tr>\n",
              "      <th>1139</th>\n",
              "      <td>Vascular Plant</td>\n",
              "      <td>Rumex acetosella</td>\n",
              "      <td>Sheep Sorrel, Sheep Sorrell</td>\n",
              "      <td>No Intervention</td>\n",
              "      <td>False</td>\n",
              "      <td>True</td>\n",
              "    </tr>\n",
              "    <tr>\n",
              "      <th>2233</th>\n",
              "      <td>Vascular Plant</td>\n",
              "      <td>Festuca filiformis</td>\n",
              "      <td>Fineleaf Sheep Fescue</td>\n",
              "      <td>No Intervention</td>\n",
              "      <td>False</td>\n",
              "      <td>True</td>\n",
              "    </tr>\n",
              "    <tr>\n",
              "      <th>3014</th>\n",
              "      <td>Mammal</td>\n",
              "      <td>Ovis canadensis</td>\n",
              "      <td>Bighorn Sheep, Bighorn Sheep</td>\n",
              "      <td>Species of Concern</td>\n",
              "      <td>True</td>\n",
              "      <td>True</td>\n",
              "    </tr>\n",
              "    <tr>\n",
              "      <th>3758</th>\n",
              "      <td>Vascular Plant</td>\n",
              "      <td>Rumex acetosella</td>\n",
              "      <td>Common Sheep Sorrel, Field Sorrel, Red Sorrel,...</td>\n",
              "      <td>No Intervention</td>\n",
              "      <td>False</td>\n",
              "      <td>True</td>\n",
              "    </tr>\n",
              "    <tr>\n",
              "      <th>3761</th>\n",
              "      <td>Vascular Plant</td>\n",
              "      <td>Rumex paucifolius</td>\n",
              "      <td>Alpine Sheep Sorrel, Fewleaved Dock, Meadow Dock</td>\n",
              "      <td>No Intervention</td>\n",
              "      <td>False</td>\n",
              "      <td>True</td>\n",
              "    </tr>\n",
              "    <tr>\n",
              "      <th>4091</th>\n",
              "      <td>Vascular Plant</td>\n",
              "      <td>Carex illota</td>\n",
              "      <td>Sheep Sedge, Smallhead Sedge</td>\n",
              "      <td>No Intervention</td>\n",
              "      <td>False</td>\n",
              "      <td>True</td>\n",
              "    </tr>\n",
              "    <tr>\n",
              "      <th>4383</th>\n",
              "      <td>Vascular Plant</td>\n",
              "      <td>Potentilla ovina var. ovina</td>\n",
              "      <td>Sheep Cinquefoil</td>\n",
              "      <td>No Intervention</td>\n",
              "      <td>False</td>\n",
              "      <td>True</td>\n",
              "    </tr>\n",
              "    <tr>\n",
              "      <th>4446</th>\n",
              "      <td>Mammal</td>\n",
              "      <td>Ovis canadensis sierrae</td>\n",
              "      <td>Sierra Nevada Bighorn Sheep</td>\n",
              "      <td>Endangered</td>\n",
              "      <td>True</td>\n",
              "      <td>True</td>\n",
              "    </tr>\n",
              "  </tbody>\n",
              "</table>\n",
              "</div>"
            ]
          },
          "metadata": {}
        }
      ],
      "execution_count": 77,
      "metadata": {
        "collapsed": true,
        "execution": {
          "iopub.status.busy": "2020-06-08T00:06:33.033Z",
          "iopub.execute_input": "2020-06-08T00:06:33.047Z",
          "iopub.status.idle": "2020-06-08T00:06:33.087Z",
          "shell.execute_reply": "2020-06-08T00:06:33.131Z"
        }
      }
    },
    {
      "cell_type": "markdown",
      "source": [
        "Many of the results are actually plants.  Select the rows of `species` where `is_sheep` is `True` and `category` is `Mammal`.  Save the results to the variable `sheep_species`."
      ],
      "metadata": {}
    },
    {
      "cell_type": "code",
      "source": [
        "sheep_species = species[(species.is_sheep) & (species.category == 'Mammal')]\n",
        "sheep_species"
      ],
      "outputs": [
        {
          "output_type": "execute_result",
          "execution_count": 84,
          "data": {
            "text/plain": [
              "     category          scientific_name  \\\n",
              "3      Mammal               Ovis aries   \n",
              "3014   Mammal          Ovis canadensis   \n",
              "4446   Mammal  Ovis canadensis sierrae   \n",
              "\n",
              "                                           common_names conservation_status  \\\n",
              "3     Domestic Sheep, Mouflon, Red Sheep, Sheep (Feral)     No Intervention   \n",
              "3014                       Bighorn Sheep, Bighorn Sheep  Species of Concern   \n",
              "4446                        Sierra Nevada Bighorn Sheep          Endangered   \n",
              "\n",
              "      is_protected  is_sheep  \n",
              "3            False      True  \n",
              "3014          True      True  \n",
              "4446          True      True  "
            ],
            "text/html": [
              "<div>\n",
              "<style scoped>\n",
              "    .dataframe tbody tr th:only-of-type {\n",
              "        vertical-align: middle;\n",
              "    }\n",
              "\n",
              "    .dataframe tbody tr th {\n",
              "        vertical-align: top;\n",
              "    }\n",
              "\n",
              "    .dataframe thead th {\n",
              "        text-align: right;\n",
              "    }\n",
              "</style>\n",
              "<table border=\"1\" class=\"dataframe\">\n",
              "  <thead>\n",
              "    <tr style=\"text-align: right;\">\n",
              "      <th></th>\n",
              "      <th>category</th>\n",
              "      <th>scientific_name</th>\n",
              "      <th>common_names</th>\n",
              "      <th>conservation_status</th>\n",
              "      <th>is_protected</th>\n",
              "      <th>is_sheep</th>\n",
              "    </tr>\n",
              "  </thead>\n",
              "  <tbody>\n",
              "    <tr>\n",
              "      <th>3</th>\n",
              "      <td>Mammal</td>\n",
              "      <td>Ovis aries</td>\n",
              "      <td>Domestic Sheep, Mouflon, Red Sheep, Sheep (Feral)</td>\n",
              "      <td>No Intervention</td>\n",
              "      <td>False</td>\n",
              "      <td>True</td>\n",
              "    </tr>\n",
              "    <tr>\n",
              "      <th>3014</th>\n",
              "      <td>Mammal</td>\n",
              "      <td>Ovis canadensis</td>\n",
              "      <td>Bighorn Sheep, Bighorn Sheep</td>\n",
              "      <td>Species of Concern</td>\n",
              "      <td>True</td>\n",
              "      <td>True</td>\n",
              "    </tr>\n",
              "    <tr>\n",
              "      <th>4446</th>\n",
              "      <td>Mammal</td>\n",
              "      <td>Ovis canadensis sierrae</td>\n",
              "      <td>Sierra Nevada Bighorn Sheep</td>\n",
              "      <td>Endangered</td>\n",
              "      <td>True</td>\n",
              "      <td>True</td>\n",
              "    </tr>\n",
              "  </tbody>\n",
              "</table>\n",
              "</div>"
            ]
          },
          "metadata": {}
        }
      ],
      "execution_count": 84,
      "metadata": {
        "collapsed": true,
        "execution": {
          "iopub.status.busy": "2020-06-08T00:10:32.234Z",
          "iopub.execute_input": "2020-06-08T00:10:32.253Z",
          "iopub.status.idle": "2020-06-08T00:10:32.294Z",
          "shell.execute_reply": "2020-06-08T00:10:32.337Z"
        }
      }
    },
    {
      "cell_type": "markdown",
      "source": [
        "Now merge `sheep_species` with `observations` to get a DataFrame with observations of sheep.  Save this DataFrame as `sheep_observations`."
      ],
      "metadata": {}
    },
    {
      "cell_type": "code",
      "source": [
        "sheep_observations = sheep_species.merge(observations)\n",
        "sheep_observations"
      ],
      "outputs": [
        {
          "output_type": "execute_result",
          "execution_count": 85,
          "data": {
            "text/plain": [
              "   category          scientific_name  \\\n",
              "0    Mammal               Ovis aries   \n",
              "1    Mammal               Ovis aries   \n",
              "2    Mammal               Ovis aries   \n",
              "3    Mammal               Ovis aries   \n",
              "4    Mammal          Ovis canadensis   \n",
              "5    Mammal          Ovis canadensis   \n",
              "6    Mammal          Ovis canadensis   \n",
              "7    Mammal          Ovis canadensis   \n",
              "8    Mammal  Ovis canadensis sierrae   \n",
              "9    Mammal  Ovis canadensis sierrae   \n",
              "10   Mammal  Ovis canadensis sierrae   \n",
              "11   Mammal  Ovis canadensis sierrae   \n",
              "\n",
              "                                         common_names conservation_status  \\\n",
              "0   Domestic Sheep, Mouflon, Red Sheep, Sheep (Feral)     No Intervention   \n",
              "1   Domestic Sheep, Mouflon, Red Sheep, Sheep (Feral)     No Intervention   \n",
              "2   Domestic Sheep, Mouflon, Red Sheep, Sheep (Feral)     No Intervention   \n",
              "3   Domestic Sheep, Mouflon, Red Sheep, Sheep (Feral)     No Intervention   \n",
              "4                        Bighorn Sheep, Bighorn Sheep  Species of Concern   \n",
              "5                        Bighorn Sheep, Bighorn Sheep  Species of Concern   \n",
              "6                        Bighorn Sheep, Bighorn Sheep  Species of Concern   \n",
              "7                        Bighorn Sheep, Bighorn Sheep  Species of Concern   \n",
              "8                         Sierra Nevada Bighorn Sheep          Endangered   \n",
              "9                         Sierra Nevada Bighorn Sheep          Endangered   \n",
              "10                        Sierra Nevada Bighorn Sheep          Endangered   \n",
              "11                        Sierra Nevada Bighorn Sheep          Endangered   \n",
              "\n",
              "    is_protected  is_sheep                            park_name  observations  \n",
              "0          False      True               Yosemite National Park           126  \n",
              "1          False      True  Great Smoky Mountains National Park            76  \n",
              "2          False      True                  Bryce National Park           119  \n",
              "3          False      True            Yellowstone National Park           221  \n",
              "4           True      True            Yellowstone National Park           219  \n",
              "5           True      True                  Bryce National Park           109  \n",
              "6           True      True               Yosemite National Park           117  \n",
              "7           True      True  Great Smoky Mountains National Park            48  \n",
              "8           True      True            Yellowstone National Park            67  \n",
              "9           True      True               Yosemite National Park            39  \n",
              "10          True      True                  Bryce National Park            22  \n",
              "11          True      True  Great Smoky Mountains National Park            25  "
            ],
            "text/html": [
              "<div>\n",
              "<style scoped>\n",
              "    .dataframe tbody tr th:only-of-type {\n",
              "        vertical-align: middle;\n",
              "    }\n",
              "\n",
              "    .dataframe tbody tr th {\n",
              "        vertical-align: top;\n",
              "    }\n",
              "\n",
              "    .dataframe thead th {\n",
              "        text-align: right;\n",
              "    }\n",
              "</style>\n",
              "<table border=\"1\" class=\"dataframe\">\n",
              "  <thead>\n",
              "    <tr style=\"text-align: right;\">\n",
              "      <th></th>\n",
              "      <th>category</th>\n",
              "      <th>scientific_name</th>\n",
              "      <th>common_names</th>\n",
              "      <th>conservation_status</th>\n",
              "      <th>is_protected</th>\n",
              "      <th>is_sheep</th>\n",
              "      <th>park_name</th>\n",
              "      <th>observations</th>\n",
              "    </tr>\n",
              "  </thead>\n",
              "  <tbody>\n",
              "    <tr>\n",
              "      <th>0</th>\n",
              "      <td>Mammal</td>\n",
              "      <td>Ovis aries</td>\n",
              "      <td>Domestic Sheep, Mouflon, Red Sheep, Sheep (Feral)</td>\n",
              "      <td>No Intervention</td>\n",
              "      <td>False</td>\n",
              "      <td>True</td>\n",
              "      <td>Yosemite National Park</td>\n",
              "      <td>126</td>\n",
              "    </tr>\n",
              "    <tr>\n",
              "      <th>1</th>\n",
              "      <td>Mammal</td>\n",
              "      <td>Ovis aries</td>\n",
              "      <td>Domestic Sheep, Mouflon, Red Sheep, Sheep (Feral)</td>\n",
              "      <td>No Intervention</td>\n",
              "      <td>False</td>\n",
              "      <td>True</td>\n",
              "      <td>Great Smoky Mountains National Park</td>\n",
              "      <td>76</td>\n",
              "    </tr>\n",
              "    <tr>\n",
              "      <th>2</th>\n",
              "      <td>Mammal</td>\n",
              "      <td>Ovis aries</td>\n",
              "      <td>Domestic Sheep, Mouflon, Red Sheep, Sheep (Feral)</td>\n",
              "      <td>No Intervention</td>\n",
              "      <td>False</td>\n",
              "      <td>True</td>\n",
              "      <td>Bryce National Park</td>\n",
              "      <td>119</td>\n",
              "    </tr>\n",
              "    <tr>\n",
              "      <th>3</th>\n",
              "      <td>Mammal</td>\n",
              "      <td>Ovis aries</td>\n",
              "      <td>Domestic Sheep, Mouflon, Red Sheep, Sheep (Feral)</td>\n",
              "      <td>No Intervention</td>\n",
              "      <td>False</td>\n",
              "      <td>True</td>\n",
              "      <td>Yellowstone National Park</td>\n",
              "      <td>221</td>\n",
              "    </tr>\n",
              "    <tr>\n",
              "      <th>4</th>\n",
              "      <td>Mammal</td>\n",
              "      <td>Ovis canadensis</td>\n",
              "      <td>Bighorn Sheep, Bighorn Sheep</td>\n",
              "      <td>Species of Concern</td>\n",
              "      <td>True</td>\n",
              "      <td>True</td>\n",
              "      <td>Yellowstone National Park</td>\n",
              "      <td>219</td>\n",
              "    </tr>\n",
              "    <tr>\n",
              "      <th>5</th>\n",
              "      <td>Mammal</td>\n",
              "      <td>Ovis canadensis</td>\n",
              "      <td>Bighorn Sheep, Bighorn Sheep</td>\n",
              "      <td>Species of Concern</td>\n",
              "      <td>True</td>\n",
              "      <td>True</td>\n",
              "      <td>Bryce National Park</td>\n",
              "      <td>109</td>\n",
              "    </tr>\n",
              "    <tr>\n",
              "      <th>6</th>\n",
              "      <td>Mammal</td>\n",
              "      <td>Ovis canadensis</td>\n",
              "      <td>Bighorn Sheep, Bighorn Sheep</td>\n",
              "      <td>Species of Concern</td>\n",
              "      <td>True</td>\n",
              "      <td>True</td>\n",
              "      <td>Yosemite National Park</td>\n",
              "      <td>117</td>\n",
              "    </tr>\n",
              "    <tr>\n",
              "      <th>7</th>\n",
              "      <td>Mammal</td>\n",
              "      <td>Ovis canadensis</td>\n",
              "      <td>Bighorn Sheep, Bighorn Sheep</td>\n",
              "      <td>Species of Concern</td>\n",
              "      <td>True</td>\n",
              "      <td>True</td>\n",
              "      <td>Great Smoky Mountains National Park</td>\n",
              "      <td>48</td>\n",
              "    </tr>\n",
              "    <tr>\n",
              "      <th>8</th>\n",
              "      <td>Mammal</td>\n",
              "      <td>Ovis canadensis sierrae</td>\n",
              "      <td>Sierra Nevada Bighorn Sheep</td>\n",
              "      <td>Endangered</td>\n",
              "      <td>True</td>\n",
              "      <td>True</td>\n",
              "      <td>Yellowstone National Park</td>\n",
              "      <td>67</td>\n",
              "    </tr>\n",
              "    <tr>\n",
              "      <th>9</th>\n",
              "      <td>Mammal</td>\n",
              "      <td>Ovis canadensis sierrae</td>\n",
              "      <td>Sierra Nevada Bighorn Sheep</td>\n",
              "      <td>Endangered</td>\n",
              "      <td>True</td>\n",
              "      <td>True</td>\n",
              "      <td>Yosemite National Park</td>\n",
              "      <td>39</td>\n",
              "    </tr>\n",
              "    <tr>\n",
              "      <th>10</th>\n",
              "      <td>Mammal</td>\n",
              "      <td>Ovis canadensis sierrae</td>\n",
              "      <td>Sierra Nevada Bighorn Sheep</td>\n",
              "      <td>Endangered</td>\n",
              "      <td>True</td>\n",
              "      <td>True</td>\n",
              "      <td>Bryce National Park</td>\n",
              "      <td>22</td>\n",
              "    </tr>\n",
              "    <tr>\n",
              "      <th>11</th>\n",
              "      <td>Mammal</td>\n",
              "      <td>Ovis canadensis sierrae</td>\n",
              "      <td>Sierra Nevada Bighorn Sheep</td>\n",
              "      <td>Endangered</td>\n",
              "      <td>True</td>\n",
              "      <td>True</td>\n",
              "      <td>Great Smoky Mountains National Park</td>\n",
              "      <td>25</td>\n",
              "    </tr>\n",
              "  </tbody>\n",
              "</table>\n",
              "</div>"
            ]
          },
          "metadata": {}
        }
      ],
      "execution_count": 85,
      "metadata": {
        "collapsed": true,
        "execution": {
          "iopub.status.busy": "2020-06-08T00:11:35.951Z",
          "iopub.execute_input": "2020-06-08T00:11:35.967Z",
          "iopub.status.idle": "2020-06-08T00:11:36.002Z",
          "shell.execute_reply": "2020-06-08T00:11:36.043Z"
        }
      }
    },
    {
      "cell_type": "markdown",
      "source": [
        "How many total sheep observations (across all three species) were made at each national park?  Use `groupby` to get the `sum` of `observations` for each `park_name`.  Save your answer to `obs_by_park`.\n",
        "\n",
        "This is the total number of sheep observed in each park over the past 7 days."
      ],
      "metadata": {}
    },
    {
      "cell_type": "code",
      "source": [
        "obs_by_park = sheep_observations.groupby('park_name').observations.sum().reset_index()\n",
        "obs_by_park"
      ],
      "outputs": [
        {
          "output_type": "execute_result",
          "execution_count": 86,
          "data": {
            "text/plain": [
              "                             park_name  observations\n",
              "0                  Bryce National Park           250\n",
              "1  Great Smoky Mountains National Park           149\n",
              "2            Yellowstone National Park           507\n",
              "3               Yosemite National Park           282"
            ],
            "text/html": [
              "<div>\n",
              "<style scoped>\n",
              "    .dataframe tbody tr th:only-of-type {\n",
              "        vertical-align: middle;\n",
              "    }\n",
              "\n",
              "    .dataframe tbody tr th {\n",
              "        vertical-align: top;\n",
              "    }\n",
              "\n",
              "    .dataframe thead th {\n",
              "        text-align: right;\n",
              "    }\n",
              "</style>\n",
              "<table border=\"1\" class=\"dataframe\">\n",
              "  <thead>\n",
              "    <tr style=\"text-align: right;\">\n",
              "      <th></th>\n",
              "      <th>park_name</th>\n",
              "      <th>observations</th>\n",
              "    </tr>\n",
              "  </thead>\n",
              "  <tbody>\n",
              "    <tr>\n",
              "      <th>0</th>\n",
              "      <td>Bryce National Park</td>\n",
              "      <td>250</td>\n",
              "    </tr>\n",
              "    <tr>\n",
              "      <th>1</th>\n",
              "      <td>Great Smoky Mountains National Park</td>\n",
              "      <td>149</td>\n",
              "    </tr>\n",
              "    <tr>\n",
              "      <th>2</th>\n",
              "      <td>Yellowstone National Park</td>\n",
              "      <td>507</td>\n",
              "    </tr>\n",
              "    <tr>\n",
              "      <th>3</th>\n",
              "      <td>Yosemite National Park</td>\n",
              "      <td>282</td>\n",
              "    </tr>\n",
              "  </tbody>\n",
              "</table>\n",
              "</div>"
            ]
          },
          "metadata": {}
        }
      ],
      "execution_count": 86,
      "metadata": {
        "collapsed": true,
        "execution": {
          "iopub.status.busy": "2020-06-08T00:12:50.623Z",
          "iopub.execute_input": "2020-06-08T00:12:50.643Z",
          "iopub.status.idle": "2020-06-08T00:12:50.690Z",
          "shell.execute_reply": "2020-06-08T00:12:50.746Z"
        }
      }
    },
    {
      "cell_type": "markdown",
      "source": [
        "Create a bar chart showing the different number of observations per week at each park.\n",
        "\n",
        "1. Start by creating a wide figure with `figsize=(16, 4)`\n",
        "1. Start by creating an axes object called `ax` using `plt.subplot`.\n",
        "2. Create a bar chart whose heights are equal to `observations` column of `obs_by_park`.\n",
        "3. Create an x-tick for each of the bars.\n",
        "4. Label each x-tick with the label from `park_name` in `obs_by_park`\n",
        "5. Label the y-axis `Number of Observations`\n",
        "6. Title the graph `Observations of Sheep per Week`\n",
        "7. Plot the grap using `plt.show()`"
      ],
      "metadata": {}
    },
    {
      "cell_type": "code",
      "source": [
        "plt.figure(figsize=(16,4))\n",
        "ax = plt.subplot()\n",
        "plt.bar(range(len(obs_by_park)),\n",
        "        obs_by_park.observations.values)\n",
        "ax.set_xticks = range(len(obs_by_park))\n",
        "ax.set_xticklabels = obs_by_park.park_name.values\n",
        "plt.ylabel = 'Number of Observations'\n",
        "plt.title = 'Observations of Sheep per Week'\n",
        "plt.show()"
      ],
      "outputs": [
        {
          "output_type": "display_data",
          "data": {
            "text/plain": [
              "<Figure size 1152x288 with 1 Axes>"
            ],
            "image/png": "[encoded data removed]"
          },
          "metadata": {
            "needs_background": "light"
          }
        }
      ],
      "execution_count": 87,
      "metadata": {
        "collapsed": true,
        "execution": {
          "iopub.status.busy": "2020-06-08T00:15:50.820Z",
          "iopub.execute_input": "2020-06-08T00:15:50.842Z",
          "iopub.status.idle": "2020-06-08T00:15:51.039Z",
          "shell.execute_reply": "2020-06-08T00:15:51.066Z"
        }
      }
    },
    {
      "cell_type": "markdown",
      "source": [
        "Our scientists know that 15% of sheep at Bryce National Park have foot and mouth disease.  Park rangers at Yellowstone National Park have been running a program to reduce the rate of foot and mouth disease at that park.  The scientists want to test whether or not this program is working.  They want to be able to detect reductions of at least 5 percentage points.  For instance, if 10% of sheep in Yellowstone have foot and mouth disease, they'd like to be able to know this, with confidence.\n",
        "\n",
        "Use <a href=\"https://s3.amazonaws.com/codecademy-content/courses/learn-hypothesis-testing/a_b_sample_size/index.html\">Codecademy's sample size calculator</a> to calculate the number of sheep that they would need to observe from each park.  Use the default level of significance (90%).\n",
        "\n",
        "Remember that \"Minimum Detectable Effect\" is a percent of the baseline."
      ],
      "metadata": {}
    },
    {
      "cell_type": "code",
      "source": [
        "minimum_detectable_effect = 100*0.05/0.15\n",
        "minimum_detectable_effect = 33.33\n",
        "baseline = 15\n",
        "sample_size_per_variant = 870"
      ],
      "outputs": [
        {
          "output_type": "execute_result",
          "execution_count": 88,
          "data": {
            "text/plain": [
              "33.333333333333336"
            ]
          },
          "metadata": {}
        }
      ],
      "execution_count": 88,
      "metadata": {
        "collapsed": true,
        "execution": {
          "iopub.status.busy": "2020-06-08T00:27:32.035Z",
          "iopub.execute_input": "2020-06-08T00:27:32.051Z",
          "iopub.status.idle": "2020-06-08T00:27:32.082Z",
          "shell.execute_reply": "2020-06-08T00:27:32.099Z"
        }
      }
    },
    {
      "cell_type": "markdown",
      "source": [
        "How many weeks would you need to observe sheep at Bryce National Park in order to observe enough sheep?  How many weeks would you need to observe at Yellowstone National Park to observe enough sheep?"
      ],
      "metadata": {}
    },
    {
      "cell_type": "code",
      "source": [
        "bryce = 870 / 250\n",
        "yellow_stone = 870/507"
      ],
      "outputs": [],
      "execution_count": 89,
      "metadata": {
        "collapsed": true,
        "execution": {
          "iopub.status.busy": "2020-06-08T00:28:46.413Z",
          "iopub.execute_input": "2020-06-08T00:28:46.431Z",
          "iopub.status.idle": "2020-06-08T00:28:46.460Z",
          "shell.execute_reply": "2020-06-08T00:28:46.480Z"
        }
      }
    }
  ],
  "metadata": {
    "kernelspec": {
      "display_name": "Python 3",
      "language": "python",
      "name": "python3"
    },
    "language_info": {
      "name": "python",
      "version": "3.7.6",
      "mimetype": "text/x-python",
      "codemirror_mode": {
        "name": "ipython",
        "version": 3
      },
      "pygments_lexer": "ipython3",
      "nbconvert_exporter": "python",
      "file_extension": ".py"
    },
    "nteract": {
      "version": "0.23.1"
    }
  },
  "nbformat": 4,
  "nbformat_minor": 2
}